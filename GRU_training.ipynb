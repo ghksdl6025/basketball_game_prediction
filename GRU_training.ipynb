{
 "cells": [
  {
   "cell_type": "markdown",
   "metadata": {},
   "source": [
    "# GRU training\n",
    "\n",
    "5 games data will be used for training model  \n",
    "3 games for training, 1 game for validation and the last for test"
   ]
  },
  {
   "cell_type": "code",
   "execution_count": 3,
   "metadata": {},
   "outputs": [],
   "source": [
    "import os\n",
    "import numpy as np\n",
    "import torch\n",
    "import torch.nn as nn\n",
    "import torch.nn.utils as torch_utils\n",
    "import pandas as pd\n",
    "from torch.utils.data import DataLoader,Dataset\n",
    "import h5py\n",
    "from torchvision import transforms\n",
    "import matplotlib.pyplot as plt"
   ]
  },
  {
   "cell_type": "code",
   "execution_count": 2,
   "metadata": {},
   "outputs": [
    {
     "name": "stdout",
     "output_type": "stream",
     "text": [
      "Mon Jun 15 10:37:52 2020       \n",
      "+-----------------------------------------------------------------------------+\n",
      "| NVIDIA-SMI 396.51                 Driver Version: 396.51                    |\n",
      "|-------------------------------+----------------------+----------------------+\n",
      "| GPU  Name        Persistence-M| Bus-Id        Disp.A | Volatile Uncorr. ECC |\n",
      "| Fan  Temp  Perf  Pwr:Usage/Cap|         Memory-Usage | GPU-Util  Compute M. |\n",
      "|===============================+======================+======================|\n",
      "|   0  GeForce GTX 108...  Off  | 00000000:02:00.0  On |                  N/A |\n",
      "| 45%   76C    P2   169W / 250W |   7947MiB / 11177MiB |     96%      Default |\n",
      "+-------------------------------+----------------------+----------------------+\n",
      "|   1  GeForce GTX 108...  Off  | 00000000:03:00.0 Off |                  N/A |\n",
      "| 23%   41C    P8    16W / 250W |     12MiB / 11178MiB |      0%      Default |\n",
      "+-------------------------------+----------------------+----------------------+\n",
      "|   2  GeForce GTX 108...  Off  | 00000000:82:00.0 Off |                  N/A |\n",
      "| 23%   37C    P8    17W / 250W |     12MiB / 11178MiB |      0%      Default |\n",
      "+-------------------------------+----------------------+----------------------+\n",
      "|   3  GeForce GTX 108...  Off  | 00000000:83:00.0 Off |                  N/A |\n",
      "| 23%   35C    P8    16W / 250W |     12MiB / 11178MiB |      0%      Default |\n",
      "+-------------------------------+----------------------+----------------------+\n",
      "                                                                               \n",
      "+-----------------------------------------------------------------------------+\n",
      "| Processes:                                                       GPU Memory |\n",
      "|  GPU       PID   Type   Process name                             Usage      |\n",
      "|=============================================================================|\n",
      "|    0      5258      C   /opt/anaconda3/bin/python3                   159MiB |\n",
      "|    0     13663      G   compiz                                       150MiB |\n",
      "|    0     16724      C   /opt/anaconda3/bin/python3                   155MiB |\n",
      "|    0     16727      C   /opt/anaconda3/bin/python3                   155MiB |\n",
      "|    0     16728      C   /opt/anaconda3/bin/python3                   155MiB |\n",
      "|    0     16731      C   /opt/anaconda3/bin/python3                   155MiB |\n",
      "|    0     16761      C   /opt/anaconda3/bin/python3                   155MiB |\n",
      "|    0     16765      C   /opt/anaconda3/bin/python3                   155MiB |\n",
      "|    0     16766      C   /opt/anaconda3/bin/python3                   155MiB |\n",
      "|    0     16780      C   /opt/anaconda3/bin/python3                   155MiB |\n",
      "|    0     16805      C   /opt/anaconda3/bin/python3                   155MiB |\n",
      "|    0     16821      C   /opt/anaconda3/bin/python3                   155MiB |\n",
      "|    0     16947      G   /usr/lib/xorg/Xorg                           139MiB |\n",
      "|    0     30966      C   /opt/anaconda3/bin/python                   5767MiB |\n",
      "|    0     31689      C   /opt/anaconda3/bin/python3                   163MiB |\n",
      "+-----------------------------------------------------------------------------+\n"
     ]
    }
   ],
   "source": [
    "os.environ[\"CUDA_DEVICE_ORDER\"]=\"PCI_BUS_ID\"\n",
    "\n",
    "os.environ[\"CUDA_VISIBLE_DEVICES\"]=\"1\"\n",
    "!nvidia-smi"
   ]
  },
  {
   "cell_type": "markdown",
   "metadata": {},
   "source": [
    "## Construct custom dataloader"
   ]
  },
  {
   "cell_type": "code",
   "execution_count": 4,
   "metadata": {},
   "outputs": [],
   "source": [
    "class Customdataset(Dataset):\n",
    "    def __init__(self,second,dataset_type,transform=None):\n",
    "        '''\n",
    "        Call stored dataset\n",
    "        \n",
    "        Params\n",
    "        second: Ellapsed second from the beginning of events \n",
    "        dataset_type: Type of dataset, trainset, validset, and testset\n",
    "        '''\n",
    "        filepath='./data/game_data/seconds_'+str(second)+'/'+dataset_type+'.hdf5'\n",
    "        dataset = h5py.File(filepath,'r')\n",
    "        \n",
    "        # Transforms\n",
    "        self.transform = transform\n",
    "        self.x_data=dataset['image']\n",
    "        self.y_data=dataset['label']\n",
    "        self.timepoint = 1+ 2 * second \n",
    "\n",
    "    def __len__(self):\n",
    "        return len(self.x_data)\n",
    "    \n",
    "    def __getitem__(self,idx):\n",
    "        \n",
    "        # Convert x and y data to torch flaot tensor\n",
    "        x = torch.FloatTensor(self.x_data[idx])\n",
    "        x = x.view(self.timepoint,-1)\n",
    "        if self.y_data[idx] ==0:\n",
    "            y = [1,0]\n",
    "        else:\n",
    "            y = [0,1]\n",
    "        y = torch.FloatTensor(y)\n",
    "        \n",
    "        return x,y"
   ]
  },
  {
   "cell_type": "markdown",
   "metadata": {},
   "source": [
    "## Modeling GRU"
   ]
  },
  {
   "cell_type": "code",
   "execution_count": 5,
   "metadata": {},
   "outputs": [],
   "source": [
    "class GRU(nn.Module):\n",
    "    def __init__(self, input_size,hidden_size, num_layers, output_size):\n",
    "        super(GRU,self).__init__()\n",
    "        \n",
    "        self.input_size =  input_size\n",
    "        self.hidden_size = hidden_size\n",
    "        self.output_size = output_size\n",
    "        self.num_layers = num_layers\n",
    "        \n",
    "        self.gru = nn.GRU(input_size,hidden_size,num_layers,batch_first=True,dropout=0.2)\n",
    "        self.fc = nn.Linear(hidden_size,output_size)\n",
    "        self.relu = nn.ReLU()\n",
    "        \n",
    "    def forward(self,inputs,hidden):        \n",
    "        hidden = hidden.reshape(self.num_layers,batch_size,-1)        \n",
    "        output, hidden = self.gru(inputs,hidden)\n",
    "        output = self.relu(output)\n",
    "        output = self.fc(output)\n",
    "        output = output[:,-1]\n",
    "#         output = torch.sigmoid(output)\n",
    "        \n",
    "        return output,hidden\n",
    "    \n",
    "    def initHidden(self):\n",
    "        return torch.zeros(1,batch_size,self.hidden_size)"
   ]
  },
  {
   "cell_type": "code",
   "execution_count": 5,
   "metadata": {},
   "outputs": [
    {
     "name": "stdout",
     "output_type": "stream",
     "text": [
      "Second:  1 is now training\n"
     ]
    },
    {
     "name": "stderr",
     "output_type": "stream",
     "text": [
      "/home/suhwan/.local/lib/python3.6/site-packages/torch/nn/modules/rnn.py:38: UserWarning: dropout option adds dropout after all but last recurrent layer, so non-zero dropout expects num_layers greater than 1, but got dropout=0.2 and num_layers=1\n",
      "  \"num_layers={}\".format(dropout, num_layers))\n"
     ]
    },
    {
     "name": "stdout",
     "output_type": "stream",
     "text": [
      "epoch: 0, loss: 347.43915, v_loss: 113.56865\n",
      "epoch: 50, loss: 330.51596, v_loss: 112.98218\n",
      "epoch: 100, loss: 330.36481, v_loss: 112.99229\n",
      "epoch: 150, loss: 330.18927, v_loss: 113.01909\n",
      "epoch: 200, loss: 330.00153, v_loss: 113.04726\n",
      "Second:  2 is now training\n",
      "epoch: 0, loss: 345.02539, v_loss: 112.05447\n",
      "epoch: 50, loss: 330.97110, v_loss: 111.17309\n",
      "epoch: 100, loss: 330.89175, v_loss: 111.18024\n",
      "epoch: 150, loss: 330.81693, v_loss: 111.19785\n",
      "epoch: 200, loss: 330.74490, v_loss: 111.21615\n",
      "Second:  3 is now training\n",
      "epoch: 0, loss: 366.40286, v_loss: 110.60381\n",
      "epoch: 50, loss: 326.35721, v_loss: 111.16697\n",
      "epoch: 100, loss: 326.33798, v_loss: 111.09310\n",
      "epoch: 150, loss: 326.33566, v_loss: 111.08749\n",
      "epoch: 200, loss: 326.33429, v_loss: 111.08752\n",
      "Second:  4 is now training\n",
      "epoch: 0, loss: 332.89944, v_loss: 107.57809\n",
      "epoch: 50, loss: 326.49606, v_loss: 107.90147\n",
      "epoch: 100, loss: 326.45758, v_loss: 107.99621\n",
      "epoch: 150, loss: 326.43063, v_loss: 108.00408\n",
      "epoch: 200, loss: 326.40012, v_loss: 108.00647\n",
      "Second:  5 is now training\n",
      "epoch: 0, loss: 322.76727, v_loss: 108.56171\n",
      "epoch: 50, loss: 322.44763, v_loss: 107.04643\n",
      "epoch: 100, loss: 322.43668, v_loss: 107.04494\n",
      "epoch: 150, loss: 322.43689, v_loss: 107.04618\n",
      "epoch: 200, loss: 322.43124, v_loss: 107.04633\n",
      "Second:  6 is now training\n",
      "epoch: 0, loss: 324.60739, v_loss: 106.31947\n",
      "epoch: 50, loss: 316.91086, v_loss: 105.08541\n",
      "epoch: 100, loss: 316.85855, v_loss: 105.10741\n",
      "epoch: 150, loss: 316.84946, v_loss: 105.11098\n",
      "epoch: 200, loss: 316.83795, v_loss: 105.11068\n",
      "Second:  7 is now training\n",
      "epoch: 0, loss: 314.86053, v_loss: 104.80025\n",
      "epoch: 50, loss: 311.58038, v_loss: 104.04932\n",
      "epoch: 100, loss: 311.56577, v_loss: 104.04454\n",
      "epoch: 150, loss: 311.55975, v_loss: 104.04465\n",
      "epoch: 200, loss: 311.55154, v_loss: 104.04469\n",
      "Second:  8 is now training\n",
      "epoch: 0, loss: 321.28793, v_loss: 111.99021\n",
      "epoch: 50, loss: 309.28101, v_loss: 105.83359\n",
      "epoch: 100, loss: 308.83908, v_loss: 105.59686\n",
      "epoch: 150, loss: 308.40805, v_loss: 105.53031\n",
      "epoch: 200, loss: 307.99557, v_loss: 105.46469\n",
      "Second:  9 is now training\n",
      "epoch: 0, loss: 312.11200, v_loss: 100.29828\n",
      "epoch: 50, loss: 301.70764, v_loss: 100.15964\n",
      "epoch: 100, loss: 301.66238, v_loss: 100.12765\n",
      "epoch: 150, loss: 301.63361, v_loss: 100.12911\n",
      "epoch: 200, loss: 301.60864, v_loss: 100.12888\n",
      "Second:  10 is now training\n",
      "epoch: 0, loss: 294.66855, v_loss: 100.86929\n",
      "epoch: 50, loss: 292.83383, v_loss: 98.15291\n",
      "epoch: 100, loss: 292.64594, v_loss: 98.16106\n",
      "epoch: 150, loss: 292.46161, v_loss: 98.17194\n",
      "epoch: 200, loss: 292.28891, v_loss: 98.18214\n"
     ]
    }
   ],
   "source": [
    "loss_second_dict={}\n",
    "vloss_second_dict={}\n",
    "model_second={}\n",
    "for second in range(1,11):\n",
    "    print('Second: ',second, 'is now training')\n",
    "    timepoint = 1+second*2\n",
    "    batch_size =1\n",
    "    dataset_type = 'trainset'\n",
    "\n",
    "    trainset = Customdataset(second=second,dataset_type=dataset_type)\n",
    "    train_loader = DataLoader(trainset, batch_size=batch_size)\n",
    "    dataset_type = 'validset'\n",
    "    validset = Customdataset(second=second,dataset_type=dataset_type)\n",
    "    valid_loader = DataLoader(validset, batch_size=batch_size)\n",
    "\n",
    "    n_hidden = 1000\n",
    "    lr = 0.001\n",
    "    epochs = 201\n",
    "\n",
    "    model = GRU(5824, n_hidden,1,2)\n",
    "    model = model.cuda()\n",
    "\n",
    "    optimizer = torch.optim.Adam(model.parameters(), lr=lr)\n",
    "    criterion = nn.BCEWithLogitsLoss()\n",
    "\n",
    "    \n",
    "    loss_graph={}\n",
    "    vloss_graph={}\n",
    "    for epoch in range(epochs):\n",
    "        hidden = model.initHidden()\n",
    "        hidden = hidden.cuda()\n",
    "        running_loss=0\n",
    "        for x,y in train_loader:\n",
    "            x = x.cuda()\n",
    "            y= y.cuda()\n",
    "            x = x.reshape(batch_size,timepoint,-1)\n",
    "            optimizer.zero_grad()\n",
    "            output,hidden = model(x,hidden)\n",
    "            loss = criterion(output, y)\n",
    "            running_loss += loss\n",
    "            \n",
    "        running_loss.backward()\n",
    "        optimizer.step()\n",
    "        loss_graph[epoch]= running_loss.item()\n",
    "        \n",
    "        if epoch%10 ==0:\n",
    "            with torch.no_grad():\n",
    "                val_loss=0.0\n",
    "                for val_x,val_y in valid_loader:\n",
    "                    val_x = val_x.cuda()\n",
    "                    val_y = val_y.cuda()\n",
    "                    val_output,_ = model(val_x,hidden)\n",
    "                    v_loss = criterion(val_output,val_y)\n",
    "                    val_loss +=v_loss\n",
    "            vloss_graph[epoch]=val_loss.item()\n",
    "        \n",
    "        \n",
    "        if epoch %50 ==0:\n",
    "            print(\"epoch: {}, loss: {:.5f}, v_loss: {:.5f}\".format(epoch, running_loss.data,val_loss.data))\n",
    "    loss_second_dict[second]= loss_graph\n",
    "    vloss_second_dict[second]= vloss_graph\n",
    "    model_second[second] = model\n",
    "    \n",
    "    #Save model\n",
    "    save_path = './data/game_data/GRU_second_'+str(second)+'.pth'\n",
    "    torch.save(model.state_dict(),save_path)\n"
   ]
  },
  {
   "cell_type": "code",
   "execution_count": null,
   "metadata": {},
   "outputs": [],
   "source": [
    "pd.DataFrame(vloss_second_dict).to_csv('./data/GRU/vloss_second_dict.csv')\n",
    "pd.DataFrame(loss_second_dict).to_csv('./data/GRU/loss_second_dict.csv')"
   ]
  },
  {
   "cell_type": "code",
   "execution_count": 40,
   "metadata": {},
   "outputs": [
    {
     "data": {
      "image/png": "[encoded data removed]",
      "text/plain": [
       "<Figure size 432x288 with 1 Axes>"
      ]
     },
     "metadata": {},
     "output_type": "display_data"
    },
    {
     "data": {
      "image/png": "[encoded data removed]",
      "text/plain": [
       "<Figure size 432x288 with 1 Axes>"
      ]
     },
     "metadata": {},
     "output_type": "display_data"
    }
   ],
   "source": [
    "vloss_df = pd.read_csv('./data/GRU/vloss_second_dict.csv')\n",
    "loss_df = pd.read_csv('./data/GRU/loss_second_dict.csv')\n",
    "loss_df = loss_df.drop(columns=['Unnamed: 0'],axis=1)\n",
    "vloss_df = vloss_df.rename(columns={'Unnamed: 0':'Index'})\n",
    "\n",
    "plt.plot(list(loss_df.index.values),list(loss_df.loc[:,'1']),label='Second 1')\n",
    "plt.plot(list(loss_df.index.values),list(loss_df.loc[:,'2']),label='Second 2')\n",
    "plt.plot(list(loss_df.index.values),list(loss_df.loc[:,'3']),label='Second 3')\n",
    "plt.plot(list(loss_df.index.values),list(loss_df.loc[:,'4']),label='Second 4')\n",
    "plt.plot(list(loss_df.index.values),list(loss_df.loc[:,'5']),label='Second 5')\n",
    "plt.plot(list(loss_df.index.values),list(loss_df.loc[:,'6']),label='Second 6')\n",
    "plt.plot(list(loss_df.index.values),list(loss_df.loc[:,'7']),label='Second 7')\n",
    "plt.plot(list(loss_df.index.values),list(loss_df.loc[:,'8']),label='Second 8')\n",
    "plt.plot(list(loss_df.index.values),list(loss_df.loc[:,'9']),label='Second 9')\n",
    "plt.plot(list(loss_df.index.values),list(loss_df.loc[:,'10']),label='Second 10')\n",
    "plt.title('Training loss')\n",
    "plt.legend()\n",
    "plt.show()\n",
    "plt.cla()\n",
    "plt.clf()\n",
    "vloss_index= list(vloss_df['Index'])\n",
    "vloss_df = vloss_df/3\n",
    "plt.plot(vloss_index,list(vloss_df.loc[:,'1']),label='Second 1')\n",
    "plt.plot(vloss_index,list(vloss_df.loc[:,'2']),label='Second 2')\n",
    "plt.plot(vloss_index,list(vloss_df.loc[:,'3']),label='Second 3')\n",
    "plt.plot(vloss_index,list(vloss_df.loc[:,'4']),label='Second 4')\n",
    "plt.plot(vloss_index,list(vloss_df.loc[:,'5']),label='Second 5')\n",
    "plt.plot(vloss_index,list(vloss_df.loc[:,'6']),label='Second 6')\n",
    "plt.plot(vloss_index,list(vloss_df.loc[:,'7']),label='Second 7')\n",
    "plt.plot(vloss_index,list(vloss_df.loc[:,'8']),label='Second 8')\n",
    "plt.plot(vloss_index,list(vloss_df.loc[:,'9']),label='Second 9')\n",
    "plt.plot(vloss_index,list(vloss_df.loc[:,'10']),label='Second 10')\n",
    "plt.title('Validation loss')\n",
    "plt.legend(loc='upper right')\n",
    "plt.show()\n"
   ]
  },
  {
   "cell_type": "code",
   "execution_count": 22,
   "metadata": {},
   "outputs": [
    {
     "name": "stderr",
     "output_type": "stream",
     "text": [
      "/home/suhwan/.local/lib/python3.6/site-packages/torch/nn/modules/rnn.py:38: UserWarning: dropout option adds dropout after all but last recurrent layer, so non-zero dropout expects num_layers greater than 1, but got dropout=0.2 and num_layers=1\n",
      "  \"num_layers={}\".format(dropout, num_layers))\n"
     ]
    },
    {
     "name": "stdout",
     "output_type": "stream",
     "text": [
      "Second: 1 Accuracy:  56.79012345679013 %\n",
      "Second: 2 Accuracy:  62.11180124223603 %\n",
      "Second: 3 Accuracy:  55.625 %\n",
      "Second: 4 Accuracy:  57.861635220125784 %\n",
      "Second: 5 Accuracy:  50.63291139240506 %\n",
      "Second: 6 Accuracy:  50.64102564102564 %\n",
      "Second: 7 Accuracy:  54.60526315789474 %\n",
      "Second: 8 Accuracy:  61.58940397350993 %\n",
      "Second: 9 Accuracy:  54.054054054054056 %\n",
      "Second: 10 Accuracy:  52.44755244755245 %\n"
     ]
    }
   ],
   "source": [
    "Accuracy_dict={}\n",
    "for second in range(1,11):\n",
    "    model= GRU(5824, n_hidden,1,2).cuda()\n",
    "    model.load_state_dict(torch.load(\"./data/game_data/GRU_second_\"+str(second)+'.pth'))\n",
    "\n",
    "    hidden = model.initHidden().cuda()\n",
    "    dataset_type ='testset'\n",
    "    testset = Customdataset(second=second,dataset_type=dataset_type)\n",
    "    test_loader = DataLoader(testset, batch_size=batch_size)\n",
    "    overall =0\n",
    "    acc_count =0\n",
    "    with torch.no_grad():\n",
    "        for inputs, targets in test_loader:\n",
    "            inputs, targets = inputs.cuda(), targets.cuda()   \n",
    "            y,hidden = model(inputs,hidden)\n",
    "            y = torch.argmax(y.data)\n",
    "            target =torch.argmax(targets.data[0])       \n",
    "\n",
    "            if y ==target:\n",
    "                acc_count +=1\n",
    "            overall +=1\n",
    "    print('Second:',second,'Accuracy: ', acc_count*100/overall,'%')\n",
    "    Accuracy_dict[second] = acc_count*100/overall\n",
    "\n",
    "\n"
   ]
  },
  {
   "cell_type": "code",
   "execution_count": 15,
   "metadata": {},
   "outputs": [
    {
     "data": {
      "text/plain": [
       "[Text(0, 0, '50.00%'),\n",
       " Text(0, 0, '52.00%'),\n",
       " Text(0, 0, '54.00%'),\n",
       " Text(0, 0, '56.00%'),\n",
       " Text(0, 0, '58.00%'),\n",
       " Text(0, 0, '60.00%'),\n",
       " Text(0, 0, '62.00%'),\n",
       " Text(0, 0, '64.00%')]"
      ]
     },
     "execution_count": 15,
     "metadata": {},
     "output_type": "execute_result"
    },
    {
     "data": {
      "image/png": "[encoded data removed]",
      "text/plain": [
       "<Figure size 432x288 with 1 Axes>"
      ]
     },
     "metadata": {},
     "output_type": "display_data"
    }
   ],
   "source": [
    "fig = plt.figure()\n",
    "ax = fig.subplots()\n",
    "ax.plot(list(Accuracy_dict.keys()),list(Accuracy_dict.values()))\n",
    "ax.set_title('GRU Test accuracy')\n",
    "ax.set_xlabel('Second')\n",
    "y_value = ['{:,.2f}'.format(x)+'%' for x in ax.get_yticks()]\n",
    "ax.set_yticklabels(y_value)"
   ]
  },
  {
   "cell_type": "markdown",
   "metadata": {},
   "source": [
    "## Number of model parameters"
   ]
  },
  {
   "cell_type": "code",
   "execution_count": 23,
   "metadata": {},
   "outputs": [
    {
     "name": "stdout",
     "output_type": "stream",
     "text": [
      "20000.001953125\n"
     ]
    }
   ],
   "source": [
    "pytorch_total_params = sum(p.numel() for p in model.parameters())\n",
    "print(pytorch_total_params/1024)"
   ]
  }
 ],
 "metadata": {
  "kernelspec": {
   "display_name": "Python 3",
   "language": "python",
   "name": "python3"
  },
  "language_info": {
   "codemirror_mode": {
    "name": "ipython",
    "version": 3
   },
   "file_extension": ".py",
   "mimetype": "text/x-python",
   "name": "python",
   "nbconvert_exporter": "python",
   "pygments_lexer": "ipython3",
   "version": "3.6.8"
  }
 },
 "nbformat": 4,
 "nbformat_minor": 2
}
