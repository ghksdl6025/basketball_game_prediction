{
 "cells": [
  {
   "cell_type": "code",
   "execution_count": 3,
   "metadata": {},
   "outputs": [],
   "source": [
    "import os\n",
    "import json\n",
    "import numpy as np\n",
    "import matplotlib.pyplot as plt\n",
    "import matplotlib.image as mpimg\n",
    "import numpy as np\n",
    "from PIL import Image\n",
    "import pickle\n",
    "import gzip\n",
    "import eventsummary\n",
    "import h5py"
   ]
  },
  {
   "cell_type": "code",
   "execution_count": 2,
   "metadata": {},
   "outputs": [],
   "source": [
    "#Sample game and game event data\n",
    "gamedata = './data/0021500507.json'\n",
    "eventdata = './game_eventdata.csv'\n",
    "\n",
    "with open(gamedata,'r') as f:\n",
    "    data = json.load(f)\n",
    "hometeam = data['events'][0]['home']['abbreviation']\n",
    "visitorteam = data['events'][0]['visitor']['abbreviation']"
   ]
  },
  {
   "cell_type": "code",
   "execution_count": 3,
   "metadata": {},
   "outputs": [],
   "source": [
    "def eventsearcher(eventid,attacker):\n",
    "    '''\n",
    "    paras\n",
    "    eventid : id of the event\n",
    "    attacker : Between home and visitor which team attacks\n",
    "\n",
    "    return\n",
    "    Moment in event dictionary. Key is moment, value = ball_loc, attacker_loc, defender_loc\n",
    "    '''\n",
    "\n",
    "    momentdict={}\n",
    "    count = 0\n",
    "\n",
    "    for loc in data['events'][eventid]['moments']:   \n",
    "        locations = loc[5]\n",
    "        ball_loc= (locations[0][2],locations[0][3])\n",
    "        home_player = [(x[2],x[3]) for x in locations[1:6]]\n",
    "        visit_player = [(x[2],x[3]) for x in locations[6:11]]\n",
    "\n",
    "        if attacker == hometeam:\n",
    "            momentdict[count] = (ball_loc,home_player,visit_player)\n",
    "        else:\n",
    "            momentdict[count] = (ball_loc,visit_player,home_player)\n",
    "        count +=1\n",
    "    return momentdict"
   ]
  },
  {
   "cell_type": "code",
   "execution_count": 25,
   "metadata": {},
   "outputs": [],
   "source": [
    "def draw_all_position_jpg(momentdict,eventid,momentsize=0):\n",
    "    '''\n",
    "    Plot jpg 3 file which records ball, attacker team, and defender team location by each.\n",
    "    However, jpg file has 3 channel 'RGB', these jpg files will be converted to 277*515*1 array only to get location\n",
    "\n",
    "    For the radius of the player circle, assume average of nba player arm span is 210cm. And take the half of it as circle diameter.\n",
    "    Since court width size in axis is 100, So relative radius of circle is approximately 3.75.   \n",
    "    '''\n",
    "\n",
    "    count =0\n",
    "    if momentsize ==1:\n",
    "        testround =True\n",
    "    else:\n",
    "        testround =False\n",
    "        \n",
    "    for moment in momentdict.keys():\n",
    "        try:\n",
    "            os.makedirs('./data/event_'+str(eventid)+'/')\n",
    "        except:\n",
    "            pass\n",
    "\n",
    "        fig =plt.figure(1)\n",
    "        ax1 = plt.subplot()\n",
    "        img  = mpimg.imread('./img/nba_court_T.png')\n",
    "        axis =[0,100,0,50]\n",
    "        ax1.imshow(img,extent=axis,zorder =0)\n",
    "        ax1 = plt.gca()\n",
    "        plt.cla()\n",
    "\n",
    "        ball_circle = plt.Circle(momentdict[moment][0],2,color = 'green')\n",
    "        ax1.add_patch(ball_circle)\n",
    "        plt.axis('off')\n",
    "        dx =2\n",
    "        plt.xlim([0-dx,100+dx])\n",
    "        plt.ylim([0-dx,50+dx])\n",
    "        plt.savefig('./data/event_'+str(eventid)+'/ball_loc'+str(moment)+'.jpg', bbox_inches='tight')\n",
    "        plt.cla()\n",
    "\n",
    "        for attack in momentdict[moment][1]:\n",
    "            att_circle = plt.Circle(attack,3.75,color = 'blue')\n",
    "            ax1.add_patch(att_circle)\n",
    "        \n",
    "        plt.axis('off')\n",
    "        dx =2\n",
    "        plt.xlim([0-dx,100+dx])\n",
    "        plt.ylim([0-dx,50+dx])\n",
    "        plt.savefig('./data/event_'+str(eventid)+'/attacker_loc'+str(moment)+'.jpg', bbox_inches='tight')\n",
    "        plt.cla()\n",
    "        \n",
    "        for defender in momentdict[moment][2]:\n",
    "            def_circle = plt.Circle(defender,3.75,color = 'red')\n",
    "            ax1.add_patch(def_circle)\n",
    "    \n",
    "        plt.axis('off')\n",
    "        dx =2\n",
    "        plt.xlim([0-dx,100+dx])\n",
    "        plt.ylim([0-dx,50+dx])\n",
    "        plt.savefig('./data/event_'+str(eventid)+'/defender_loc'+str(moment)+'.jpg', bbox_inches='tight')\n",
    "        \n",
    "        plt.cla()\n",
    "        plt.clf()\n",
    "\n",
    "        count +=1\n",
    "        if testround ==True:\n",
    "            if count > momentsize:\n",
    "                break\n"
   ]
  },
  {
   "cell_type": "code",
   "execution_count": 56,
   "metadata": {},
   "outputs": [],
   "source": [
    "def jpg_to_array(eventid,momentsize,testround=False):\n",
    "    '''\n",
    "    With saved jpg file,ball attacker, and defender location, convert jpg to numpy array with bascketball court image.\n",
    "    And save array into compressed pickle file.\n",
    "    \n",
    "    Array is (4, 277, 515) which is consist of court array, ball location array, attacker location array, and defender location array.\n",
    "    So it is 4 channel array.    \n",
    "    '''\n",
    "    \n",
    "    courtjpg = Image.open('./data/nba_court.jpg')\n",
    "    courtarr = np.array(courtjpg)[:,:,0]\n",
    "    for moment in range(momentsize):\n",
    "        balljpg = Image.open('./data/event_'+str(eventid)+'/ball_loc'+str(moment)+'.jpg')\n",
    "        attjpg = Image.open('./data/event_'+str(eventid)+'/attacker_loc'+str(moment)+'.jpg')\n",
    "        defjpg = Image.open('./data/event_'+str(eventid)+'/defender_loc'+str(moment)+'.jpg')\n",
    "       \n",
    "        ball2arr = np.array(balljpg)[:,:,0]\n",
    "        att2arr = np.array(attjpg)[:,:,1]\n",
    "        def2arr = np.array(defjpg)[:,:,2]\n",
    "\n",
    "        allarr = np.array([courtarr,ball2arr,att2arr,def2arr])\n",
    "\n",
    "        if testround==True:\n",
    "            display(courtjpg)\n",
    "            display(balljpg)\n",
    "            display(attjpg)\n",
    "            display(defjpg)\n",
    "            print(allarr)\n",
    "            print(allarr.shape)\n",
    "            \n",
    "        try:\n",
    "            os.makedirs('./data/event_'+str(eventid))\n",
    "        except:\n",
    "            pass\n",
    "\n",
    "        with gzip.open('./data/event_'+str(eventid)+'/moment'+str(moment)+'.pkl','wb')  as f:\n",
    "            pickle.dump(allarr,f)"
   ]
  },
  {
   "cell_type": "code",
   "execution_count": 51,
   "metadata": {},
   "outputs": [],
   "source": [
    "make_eventdict, miss_eventdict = eventsummary.get_eventdict(eventdata,gamedata)"
   ]
  },
  {
   "cell_type": "code",
   "execution_count": 52,
   "metadata": {},
   "outputs": [
    {
     "data": {
      "text/plain": [
       "<Figure size 432x288 with 0 Axes>"
      ]
     },
     "metadata": {},
     "output_type": "display_data"
    }
   ],
   "source": [
    "events = make_eventdict['Q1'][0]\n",
    "draw_all_position_jpg(eventsearcher(events[0],events[1]),events[0],1)"
   ]
  },
  {
   "cell_type": "markdown",
   "metadata": {},
   "source": [
    "## Plot example images and output array\n",
    "\n",
    "4 plotted images are  \n",
    "- Bascketball court image  \n",
    "- Green circle : ball  \n",
    "- Blue circle : attacker  \n",
    "- Red circle : Defender  "
   ]
  },
  {
   "cell_type": "code",
   "execution_count": 57,
   "metadata": {
    "scrolled": true
   },
   "outputs": [
    {
     "data": {
      "image/png": "[encoded data removed]",
      "text/plain": [
       "<PIL.JpegImagePlugin.JpegImageFile image mode=RGB size=515x277 at 0x1AA37CE5DA0>"
      ]
     },
     "metadata": {},
     "output_type": "display_data"
    },
    {
     "data": {
      "image/png": "[encoded data removed]",
      "text/plain": [
       "<PIL.JpegImagePlugin.JpegImageFile image mode=RGB size=349x188 at 0x1AA37CE5780>"
      ]
     },
     "metadata": {},
     "output_type": "display_data"
    },
    {
     "data": {
      "image/png": "[encoded data removed]",
      "text/plain": [
       "<PIL.JpegImagePlugin.JpegImageFile image mode=RGB size=349x188 at 0x1AA37CE5160>"
      ]
     },
     "metadata": {},
     "output_type": "display_data"
    },
    {
     "data": {
      "image/png": "[encoded data removed]",
      "text/plain": [
       "<PIL.JpegImagePlugin.JpegImageFile image mode=RGB size=349x188 at 0x1AA37CE5B38>"
      ]
     },
     "metadata": {},
     "output_type": "display_data"
    },
    {
     "name": "stdout",
     "output_type": "stream",
     "text": [
      "[array([[255, 255, 255, ..., 255, 255, 255],\n",
      "       [255, 255, 255, ..., 255, 255, 255],\n",
      "       [255, 255, 255, ..., 255, 255, 255],\n",
      "       ...,\n",
      "       [255, 255, 255, ..., 255, 255, 255],\n",
      "       [255, 255, 255, ..., 255, 255, 255],\n",
      "       [255, 255, 255, ..., 255, 255, 255]], dtype=uint8)\n",
      " array([[255, 255, 255, ..., 255, 255, 255],\n",
      "       [255, 255, 255, ..., 255, 255, 255],\n",
      "       [255, 255, 255, ..., 255, 255, 255],\n",
      "       ...,\n",
      "       [255, 255, 255, ..., 255, 255, 255],\n",
      "       [255, 255, 255, ..., 255, 255, 255],\n",
      "       [255, 255, 255, ..., 255, 255, 255]], dtype=uint8)\n",
      " array([[255, 255, 255, ..., 255, 255, 255],\n",
      "       [255, 255, 255, ..., 255, 255, 255],\n",
      "       [255, 255, 255, ..., 255, 255, 255],\n",
      "       ...,\n",
      "       [255, 255, 255, ..., 255, 255, 255],\n",
      "       [255, 255, 255, ..., 255, 255, 255],\n",
      "       [255, 255, 255, ..., 255, 255, 255]], dtype=uint8)\n",
      " array([[255, 255, 255, ..., 255, 255, 255],\n",
      "       [255, 255, 255, ..., 255, 255, 255],\n",
      "       [255, 255, 255, ..., 255, 255, 255],\n",
      "       ...,\n",
      "       [255, 255, 255, ..., 255, 255, 255],\n",
      "       [255, 255, 255, ..., 255, 255, 255],\n",
      "       [255, 255, 255, ..., 255, 255, 255]], dtype=uint8)]\n",
      "(4,)\n"
     ]
    }
   ],
   "source": [
    "jpg_to_array(events[0],1,True)"
   ]
  },
  {
   "cell_type": "markdown",
   "metadata": {},
   "source": [
    "## Basic analysis\n",
    "How many moments are in each events?"
   ]
  },
  {
   "cell_type": "code",
   "execution_count": 8,
   "metadata": {},
   "outputs": [],
   "source": [
    "import pickle\n",
    "import os\n",
    "import gzip\n",
    "import numpy as np\n",
    "import torch\n",
    "import torch.nn as NN\n",
    "from torch.utils.data import DataLoader,Dataset"
   ]
  },
  {
   "cell_type": "markdown",
   "metadata": {},
   "source": [
    "## Original plan\n",
    "  \n",
    "Try to use 20 games data  \n",
    "  \n",
    "-> Memory error problem occured. The size of the data is beyond the capability of local machine. It would be better to use less number of data\n"
   ]
  },
  {
   "cell_type": "code",
   "execution_count": 10,
   "metadata": {},
   "outputs": [],
   "source": [
    "make_dir = './data/game_data/event_make/'\n",
    "miss_dir = './data/game_data/event_miss/'\n",
    "\n",
    "make_eventsize=[]\n",
    "for names in os.listdir(make_dir):\n",
    "    for events in os.listdir(make_dir+names):\n",
    "        momentslist= sorted([x.split('.')[0] for x in os.listdir(make_dir+names+'/'+events)],key=lambda x: int(x[6:]))\n",
    "        make_eventsize.append(len(momentslist))\n",
    "\n",
    "miss_eventsize=[]\n",
    "for names in os.listdir(miss_dir):\n",
    "    for events in os.listdir(miss_dir+names):\n",
    "        momentslist= sorted([x.split('.')[0] for x in os.listdir(miss_dir+names+'/'+events)],key=lambda x: int(x[6:]))\n",
    "        miss_eventsize.append(len(momentslist))\n",
    "eventsize = make_eventsize+miss_eventsize"
   ]
  },
  {
   "cell_type": "code",
   "execution_count": 101,
   "metadata": {},
   "outputs": [
    {
     "name": "stdout",
     "output_type": "stream",
     "text": [
      "Event \"Make\" view\n",
      "Number of events: 1387 Number of moments: 676106\n",
      "Moment size per event Average: 487.46 Moment size per event Std.: 208.91\n",
      "\n",
      "\n",
      "Event \"Miss\" view\n",
      "Number of events: 1774 Number of moments: 904031\n",
      "Moment size per event Average: 509.6 Moment size per event Std.: 219.67\n",
      "\n",
      "\n",
      "All Event view\n",
      "Number of events 3161 Number of moments: 1580137\n",
      "Moment size per event Average: 499.89 Moment size per event Std.: 215.29\n"
     ]
    }
   ],
   "source": [
    "print('Event \"Make\" view')\n",
    "print('Number of events:', len(make_eventsize),'Number of moments:', sum(make_eventsize))\n",
    "print('Moment size per event Average:',round(np.mean(make_eventsize),2),'Moment size per event Std.:',round(np.std(make_eventsize),2))\n",
    "print('\\n')\n",
    "print('Event \"Miss\" view')\n",
    "print('Number of events:',len(miss_eventsize),'Number of moments:', sum(miss_eventsize))\n",
    "print('Moment size per event Average:',round(np.mean(miss_eventsize),2),'Moment size per event Std.:',round(np.std(miss_eventsize),2))\n",
    "print('\\n')\n",
    "print('All Event view')\n",
    "print('Number of events',len(eventsize),'Number of moments:', sum(eventsize))\n",
    "print('Moment size per event Average:',round(np.mean(eventsize),2),'Moment size per event Std.:',round(np.std(eventsize),2))"
   ]
  },
  {
   "cell_type": "markdown",
   "metadata": {},
   "source": [
    "## Use less number of data\n",
    "5 games data will be used for training"
   ]
  },
  {
   "cell_type": "code",
   "execution_count": 117,
   "metadata": {},
   "outputs": [],
   "source": [
    "make_dir = './data/game_data/event_make/'\n",
    "miss_dir = './data/game_data/event_miss/'\n",
    "make_dir_few = sorted(os.listdir(make_dir))[:5]\n",
    "miss_dir_few = sorted(os.listdir(miss_dir))[:5]\n",
    "\n",
    "make_eventsize=[]\n",
    "\n",
    "for events in make_dir_few:\n",
    "    for moment in os.listdir(make_dir+'/'+events):        \n",
    "        momentslist= sorted([x.split('.')[0] for x in os.listdir(make_dir+events+'/'+moment)],key=lambda x: int(x[6:]))\n",
    "        make_eventsize.append(len(momentslist))\n",
    "\n",
    "miss_eventsize=[]\n",
    "\n",
    "for events in miss_dir_few:\n",
    "    for moment in os.listdir(miss_dir+'/'+events):        \n",
    "        momentslist= sorted([x.split('.')[0] for x in os.listdir(miss_dir+events+'/'+moment)],key=lambda x: int(x[6:]))\n",
    "        miss_eventsize.append(len(momentslist))\n",
    "eventsize = make_eventsize+miss_eventsize\n"
   ]
  },
  {
   "cell_type": "code",
   "execution_count": 118,
   "metadata": {
    "scrolled": true
   },
   "outputs": [
    {
     "name": "stdout",
     "output_type": "stream",
     "text": [
      "Event \"Make\" view\n",
      "Number of events: 356 Number of moments: 178694\n",
      "Moment size per event Average: 501.95 Moment size per event Std.: 212.79\n",
      "\n",
      "\n",
      "Event \"Miss\" view\n",
      "Number of events: 457 Number of moments: 235803\n",
      "Moment size per event Average: 515.98 Moment size per event Std.: 213.42\n",
      "\n",
      "\n",
      "All Event view\n",
      "Number of events 813 Number of moments: 414497\n",
      "Moment size per event Average: 509.84 Moment size per event Std.: 213.26\n"
     ]
    }
   ],
   "source": [
    "print('Event \"Make\" view')\n",
    "print('Number of events:', len(make_eventsize),'Number of moments:', sum(make_eventsize))\n",
    "print('Moment size per event Average:',round(np.mean(make_eventsize),2),'Moment size per event Std.:',round(np.std(make_eventsize),2))\n",
    "print('\\n')\n",
    "print('Event \"Miss\" view')\n",
    "print('Number of events:',len(miss_eventsize),'Number of moments:', sum(miss_eventsize))\n",
    "print('Moment size per event Average:',round(np.mean(miss_eventsize),2),'Moment size per event Std.:',round(np.std(miss_eventsize),2))\n",
    "print('\\n')\n",
    "print('All Event view')\n",
    "print('Number of events',len(eventsize),'Number of moments:', sum(eventsize))\n",
    "print('Moment size per event Average:',round(np.mean(eventsize),2),'Moment size per event Std.:',round(np.std(eventsize),2))"
   ]
  },
  {
   "cell_type": "markdown",
   "metadata": {},
   "source": [
    "## Resize the array  \n",
    "Origianl size of each moment array is (4, 277, 515)  \n",
    "For saving memory usage, resizing array is required from original 277 * 515 to 28 * 52, i.e. 90% reduction of array size.\n",
    "Modified size of moment would be (4,28,52)."
   ]
  },
  {
   "cell_type": "code",
   "execution_count": 4,
   "metadata": {
    "scrolled": true
   },
   "outputs": [
    {
     "name": "stdout",
     "output_type": "stream",
     "text": [
      "(4, 277, 515)\n"
     ]
    }
   ],
   "source": [
    "with gzip.open('./data/game_data/event_make/0021500296/event_2/moment10.pkl','r') as f:\n",
    "    data = pickle.load(f)\n",
    "print(data.shape)"
   ]
  },
  {
   "cell_type": "code",
   "execution_count": 5,
   "metadata": {
    "scrolled": true
   },
   "outputs": [
    {
     "data": {
      "image/png": "[encoded data removed]",
      "text/plain": [
       "<PIL.Image.Image image mode=L size=515x277 at 0x1AB3AFC1668>"
      ]
     },
     "metadata": {},
     "output_type": "display_data"
    },
    {
     "data": {
      "image/png": "[encoded data removed]",
      "text/plain": [
       "<PIL.Image.Image image mode=L size=52x28 at 0x1AB3AFC16A0>"
      ]
     },
     "metadata": {},
     "output_type": "display_data"
    },
    {
     "data": {
      "image/png": "[encoded data removed]",
      "text/plain": [
       "<PIL.Image.Image image mode=L size=515x277 at 0x1AB3B042B38>"
      ]
     },
     "metadata": {},
     "output_type": "display_data"
    },
    {
     "data": {
      "image/png": "[encoded data removed]",
      "text/plain": [
       "<PIL.Image.Image image mode=L size=52x28 at 0x1AB3AFC17F0>"
      ]
     },
     "metadata": {},
     "output_type": "display_data"
    },
    {
     "data": {
      "image/png": "[encoded data removed]",
      "text/plain": [
       "<PIL.Image.Image image mode=L size=515x277 at 0x1AB3AFC1668>"
      ]
     },
     "metadata": {},
     "output_type": "display_data"
    },
    {
     "data": {
      "image/png": "[encoded data removed]",
      "text/plain": [
       "<PIL.Image.Image image mode=L size=52x28 at 0x1AB3AFC17B8>"
      ]
     },
     "metadata": {},
     "output_type": "display_data"
    },
    {
     "data": {
      "image/png": "[encoded data removed]",
      "text/plain": [
       "<PIL.Image.Image image mode=L size=515x277 at 0x1AB3AFC16A0>"
      ]
     },
     "metadata": {},
     "output_type": "display_data"
    },
    {
     "data": {
      "image/png": "[encoded data removed]",
      "text/plain": [
       "<PIL.Image.Image image mode=L size=52x28 at 0x1AB3B03C908>"
      ]
     },
     "metadata": {},
     "output_type": "display_data"
    },
    {
     "name": "stdout",
     "output_type": "stream",
     "text": [
      "(4, 28, 52)\n"
     ]
    }
   ],
   "source": [
    "moment =[]\n",
    "for x in data:\n",
    "    oimg = Image.fromarray(x)\n",
    "    resize = oimg.resize((52,28))\n",
    "    display(oimg)\n",
    "    display(resize)\n",
    "    moment.append(np.array(resize))\n",
    "print(np.array(moment).shape)"
   ]
  },
  {
   "cell_type": "markdown",
   "metadata": {},
   "source": [
    "## Construct input data per seconds\n",
    "By chaing of seconds, split events to train, validation, and test in proportion of 60%, 20%, 20%.  \n"
   ]
  },
  {
   "cell_type": "code",
   "execution_count": 57,
   "metadata": {},
   "outputs": [
    {
     "name": "stdout",
     "output_type": "stream",
     "text": [
      "[0, 12, 24, 36, 48, 60, 72, 84, 96, 108, 120, 132, 144, 156, 168, 180, 192, 204, 216, 228, 240]\n"
     ]
    }
   ],
   "source": [
    "seconds = 10\n",
    "moment_size = 25* seconds\n",
    "step = 12\n",
    "moment_step = [x for x in range(0,moment_size,step)]\n",
    "print(moment_step)"
   ]
  },
  {
   "cell_type": "code",
   "execution_count": 58,
   "metadata": {},
   "outputs": [],
   "source": [
    "make_dir = './data/game_data/event_make/'\n",
    "miss_dir = './data/game_data/event_miss/'\n",
    "make_dir_few = sorted(os.listdir(make_dir))[:5]\n",
    "miss_dir_few = sorted(os.listdir(miss_dir))[:5]\n",
    "\n",
    "x_data = []\n",
    "y_data=[]\n",
    "\n",
    "for game in make_dir_few:\n",
    "    for event in os.listdir(make_dir+'/'+game):\n",
    "        momentslist= sorted([x.split('.')[0] for x in os.listdir(make_dir+game+'/'+event)],key=lambda x: int(x[6:]))\n",
    "        if len(momentslist) < moment_size:\n",
    "            pass\n",
    "        else:\n",
    "            x_event=[]\n",
    "            for moment in moment_step:\n",
    "                moment_name = make_dir+game+'/'+event+'/'+'moment'+str(moment)+'.pkl'\n",
    "                with gzip.open(moment_name,'r') as f:\n",
    "                    data = pickle.load(f)\n",
    "                moment_d =[]\n",
    "                for ply in data:\n",
    "                    oimg = Image.fromarray(ply)\n",
    "                    resize = oimg.resize((52,28))\n",
    "                    moment_d.append(np.array(resize))\n",
    "                x_event.append(np.array(moment_d))\n",
    "            x_data.append(np.array(x_event))\n",
    "            y_data.append(1)\n",
    "\n",
    "for game in miss_dir_few:\n",
    "    for event in os.listdir(miss_dir+'/'+game):\n",
    "        momentslist= sorted([x.split('.')[0] for x in os.listdir(miss_dir+game+'/'+event)],key=lambda x: int(x[6:]))\n",
    "        if len(momentslist) < moment_size:\n",
    "            pass\n",
    "        else:\n",
    "            x_event=[]\n",
    "            for moment in moment_step:\n",
    "                moment_name = miss_dir+game+'/'+event+'/'+'moment'+str(moment)+'.pkl'\n",
    "                with gzip.open(moment_name,'r') as f:\n",
    "                    data = pickle.load(f)\n",
    "                moment_d =[]\n",
    "                for ply in data:\n",
    "                    oimg = Image.fromarray(ply)\n",
    "                    resize = oimg.resize((52,28))\n",
    "                    moment_d.append(np.array(resize))\n",
    "                x_event.append(np.array(moment_d))\n",
    "            x_data.append(np.array(x_event))\n",
    "            y_data.append(0)"
   ]
  },
  {
   "cell_type": "code",
   "execution_count": 59,
   "metadata": {},
   "outputs": [],
   "source": [
    "x_data = np.array(x_data)\n",
    "y_data = np.array(y_data)"
   ]
  },
  {
   "cell_type": "code",
   "execution_count": 60,
   "metadata": {},
   "outputs": [],
   "source": [
    "data_idx = np.random.permutation([x for x in range(len(x_data))])\n",
    "train_idx,valid_idx,test_idx = np.split(data_idx,[int(len(data_idx)*0.6),int(len(data_idx)*0.8)])\n",
    "train_data = x_data[train_idx]\n",
    "train_label = y_data[train_idx]\n",
    "train = [train_data,train_label]\n",
    "\n",
    "valid_data = x_data[valid_idx]\n",
    "valid_label = y_data[valid_idx]\n",
    "valid = [valid_data,valid_label]\n",
    "\n",
    "test_data = x_data[test_idx]\n",
    "test_label = y_data[test_idx]\n",
    "test = [test_data,test_label]"
   ]
  },
  {
   "cell_type": "code",
   "execution_count": 61,
   "metadata": {},
   "outputs": [],
   "source": [
    "dirname = './data/game_data/seconds_'+str(seconds) \n",
    "try:\n",
    "    os.makedirs(dirname)\n",
    "except:\n",
    "    pass\n",
    "\n",
    "with h5py.File(dirname+'/testset.hdf5','w') as f:\n",
    "    f['image'] = test[0]\n",
    "    f['label'] = test[1]\n",
    "\n",
    "with h5py.File(dirname+'/trainset.hdf5','w') as f:\n",
    "    f['image'] = train[0]\n",
    "    f['label'] = train[1]\n",
    "with h5py.File(dirname+'/validset.hdf5','w') as f:\n",
    "    f['image'] = valid[0]\n",
    "    f['label'] = valid[1]"
   ]
  },
  {
   "cell_type": "code",
   "execution_count": null,
   "metadata": {},
   "outputs": [],
   "source": []
  }
 ],
 "metadata": {
  "kernelspec": {
   "display_name": "Python 3.6.8 64-bit",
   "language": "python",
   "name": "python36864bitc2c55638e7b64ec7a4c911221f55c572"
  },
  "language_info": {
   "codemirror_mode": {
    "name": "ipython",
    "version": 3
   },
   "file_extension": ".py",
   "mimetype": "text/x-python",
   "name": "python",
   "nbconvert_exporter": "python",
   "pygments_lexer": "ipython3",
   "version": "3.6.8"
  }
 },
 "nbformat": 4,
 "nbformat_minor": 2
}
